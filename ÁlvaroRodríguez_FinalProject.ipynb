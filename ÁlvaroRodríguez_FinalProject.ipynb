{
 "cells": [
  {
   "cell_type": "markdown",
   "metadata": {},
   "source": [
    "<center>\n",
    "    <img src=\"https://cf-courses-data.s3.us.cloud-object-storage.appdomain.cloud/IBMDeveloperSkillsNetwork-DS0105EN-SkillsNetwork/labs/Module2/images/SN_web_lightmode.png\" width=\"300\" alt=\"cognitiveclass.ai logo\">\n",
    "</center>\n"
   ]
  },
  {
   "cell_type": "markdown",
   "metadata": {},
   "source": [
    "#### Add your code below following the instructions given in the course\n"
   ]
  },
  {
   "cell_type": "markdown",
   "metadata": {},
   "source": [
    "Exercise 12 - Share your notebook through GitHub (3 pts)\n",
    "\n",
    "Exercise 13 - Take a screenshot of the first page of the notebook. (1 pt)"
   ]
  },
  {
   "cell_type": "markdown",
   "metadata": {},
   "source": [
    "# Final Project"
   ]
  },
  {
   "cell_type": "markdown",
   "metadata": {},
   "source": [
    "### **Data science languages**"
   ]
  },
  {
   "cell_type": "markdown",
   "metadata": {},
   "source": [
    "- Python\n",
    "- R\n",
    "- Julia\n",
    "- SQL\n",
    "- Scala"
   ]
  },
  {
   "cell_type": "markdown",
   "metadata": {},
   "source": [
    "## **Data science libraries** \n",
    "- Pandas\n",
    "- Numpy\n",
    "- Matplotlib\n",
    "- Scikit learn\n",
    "- TensorFlow\n"
   ]
  },
  {
   "cell_type": "markdown",
   "metadata": {},
   "source": [
    "## **Data science tools**\n",
    "| Tool |\n",
    "|------|\n",
    "| Jupyter Notebooks |\n",
    "| RStudio |\n",
    "| Git and GitHub |\n",
    "| Apache Spark |\n",
    "| IBM Watson Studio |"
   ]
  },
  {
   "cell_type": "markdown",
   "metadata": {},
   "source": [
    "## Arithmetic Expressions \n",
    "- **Addition:** 5 + 3 = 8\n",
    "- **Subtraction:** 10 - 4 = 6\n",
    "- **Multiplication:** 7 * 2 = 14\n",
    "- **Division:** 16 / 4 = 4.0\n",
    "- **Exponentiation:** 2 ** 3 = 8"
   ]
  },
  {
   "cell_type": "markdown",
   "metadata": {},
   "source": [
    "## **Code to add or multiply numbers**"
   ]
  },
  {
   "cell_type": "code",
   "execution_count": 8,
   "metadata": {},
   "outputs": [
    {
     "name": "stdin",
     "output_type": "stream",
     "text": [
      "If you want to multiply the numbers, insert the number 1. If you want to add them, insert the number 0: 5\n",
      "Insert the first number: 8\n",
      "Insert the second number: 4\n"
     ]
    },
    {
     "name": "stdout",
     "output_type": "stream",
     "text": [
      "The number you inserted is neither 1 or 0, please try again\n"
     ]
    }
   ],
   "source": [
    "x = int(input(\"If you want to multiply the numbers, insert the number 1. If you want to add them, insert the number 0:\")) \n",
    "a = int(input(\"Insert the first number:\")) \n",
    "b = int(input(\"Insert the second number:\"))\n",
    "if x== 1: \n",
    "    print(f\"{a}*{b} =\", a*b)\n",
    "elif x== 0: \n",
    "    print(f\"{a}+{b} =\", a+b)\n",
    "else: \n",
    "    print(\"The number you inserted is neither 1 or 0, please try again\")"
   ]
  },
  {
   "cell_type": "markdown",
   "metadata": {},
   "source": [
    "## **Convert minutes to hours**"
   ]
  },
  {
   "cell_type": "code",
   "execution_count": 14,
   "metadata": {},
   "outputs": [
    {
     "name": "stdin",
     "output_type": "stream",
     "text": [
      "Please, insert the amount of minutes you want to convert: 87\n"
     ]
    },
    {
     "name": "stdout",
     "output_type": "stream",
     "text": [
      "87 minutes equals to 1.45 hours\n"
     ]
    }
   ],
   "source": [
    "m = int(input(\"Please, insert the amount of minutes you want to convert:\"))\n",
    "print(f\"{m} minutes equals to\", m/60 ,\"hours\")"
   ]
  },
  {
   "cell_type": "markdown",
   "metadata": {},
   "source": [
    "## **Objectives**\n",
    "\n",
    "- Understand the basics of Markdown formatting in Jupyter Notebook.\n",
    "- Learn how to create structured content using headers, lists, and tables.\n",
    "- Apply Markdown to improve documentation and readability in notebooks.\n",
    "- Use Markdown cells to present clear instructions and explanations."
   ]
  },
  {
   "cell_type": "markdown",
   "metadata": {},
   "source": [
    "# **Author: Álvaro Rodríguez**"
   ]
  },
  {
   "cell_type": "code",
   "execution_count": null,
   "metadata": {},
   "outputs": [],
   "source": []
  }
 ],
 "metadata": {
  "kernelspec": {
   "display_name": "Python 3 (ipykernel)",
   "language": "python",
   "name": "python3"
  },
  "language_info": {
   "codemirror_mode": {
    "name": "ipython",
    "version": 3
   },
   "file_extension": ".py",
   "mimetype": "text/x-python",
   "name": "python",
   "nbconvert_exporter": "python",
   "pygments_lexer": "ipython3",
   "version": "3.12.8"
  }
 },
 "nbformat": 4,
 "nbformat_minor": 4
}
